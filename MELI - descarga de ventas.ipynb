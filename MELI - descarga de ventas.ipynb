{
 "cells": [
  {
   "cell_type": "code",
   "execution_count": null,
   "metadata": {},
   "outputs": [],
   "source": [
    "# pip install requests python-dotenv"
   ]
  },
  {
   "cell_type": "code",
   "execution_count": 1,
   "metadata": {},
   "outputs": [],
   "source": [
    "import requests\n",
    "import pandas as pd\n",
    "import csv\n",
    "import webbrowser\n",
    "from datetime import datetime, timedelta\n",
    "from flask import Flask, request, redirect\n",
    "from dotenv import load_dotenv\n",
    "import os"
   ]
  },
  {
   "cell_type": "code",
   "execution_count": 2,
   "metadata": {},
   "outputs": [],
   "source": [
    "# Obtenerlos desde un archivo .env\n",
    "# Cargar el archivo .env\n",
    "load_dotenv('api_meli_colch.env')\n",
    "\n",
    "# Obtener los valores de las variables de entorno\n",
    "app_id = os.getenv(\"APP_ID\")\n",
    "client_secret = os.getenv(\"CLIENT_SECRET\")\n",
    "redirect_uri = os.getenv(\"REDIRECT_URI\")\n"
   ]
  },
  {
   "cell_type": "code",
   "execution_count": 4,
   "metadata": {},
   "outputs": [
    {
     "name": "stdout",
     "output_type": "stream",
     "text": [
      "Visita esta URL para autorizar la aplicación: https://auth.mercadolibre.com.mx/authorization?response_type=code&client_id=8261166610203184&redirect_uri=https://adseller.mx\n"
     ]
    },
    {
     "data": {
      "text/plain": [
       "True"
      ]
     },
     "execution_count": 4,
     "metadata": {},
     "output_type": "execute_result"
    }
   ],
   "source": [
    "# Abrir automaticamente la página web y copiar y pegar el Auth_code MANUALMENTE\n",
    "\n",
    "auth_url = f'https://auth.mercadolibre.com.mx/authorization?response_type=code&client_id={app_id}&redirect_uri={redirect_uri}'\n",
    "print(\"Visita esta URL para autorizar la aplicación:\", auth_url)\n",
    "webbrowser.open(auth_url)"
   ]
  },
  {
   "cell_type": "code",
   "execution_count": 5,
   "metadata": {},
   "outputs": [],
   "source": [
    "auth_code = 'TG-66450396d250c3000176ddbc-1336637999'"
   ]
  },
  {
   "cell_type": "code",
   "execution_count": 6,
   "metadata": {},
   "outputs": [
    {
     "name": "stdout",
     "output_type": "stream",
     "text": [
      "Token de acceso obtenido: APP_USR-8261166610203184-051514-72a18204ab6b9d9bf5ca45456cf73547-1336637999\n"
     ]
    }
   ],
   "source": [
    "def get_access_token(auth_code):\n",
    "    # URL para intercambiar el código por un token de acceso\n",
    "    token_url = 'https://api.mercadolibre.com/oauth/token'\n",
    "\n",
    "    # Detalles para la petición de intercambio de token\n",
    "    token_data = {\n",
    "        'grant_type': 'authorization_code',\n",
    "        'client_id': app_id,\n",
    "        'client_secret': client_secret,\n",
    "        'code': auth_code,\n",
    "        'redirect_uri': redirect_uri\n",
    "    }\n",
    "\n",
    "    # Realizar la petición POST para obtener el token\n",
    "    response = requests.post(token_url, data=token_data)\n",
    "    if response.status_code == 200:\n",
    "        access_token = response.json().get('access_token')\n",
    "        print(\"Token de acceso obtenido:\", access_token)\n",
    "        return access_token\n",
    "    else:\n",
    "        print(\"Error al obtener el token de acceso:\", response.status_code, response.text)\n",
    "        return None\n",
    "\n",
    "# Llamando a la función y almacenando el resultado\n",
    "access_token = get_access_token(auth_code)\n"
   ]
  },
  {
   "cell_type": "code",
   "execution_count": 13,
   "metadata": {},
   "outputs": [
    {
     "name": "stdout",
     "output_type": "stream",
     "text": [
      "ID de usuario obtenido: 1336637999\n"
     ]
    }
   ],
   "source": [
    "def get_user_id(access_token):\n",
    "    url = 'https://api.mercadolibre.com/users/me'\n",
    "    headers = {'Authorization': f'Bearer {access_token}'}\n",
    "    response = requests.get(url, headers=headers)\n",
    "    if response.status_code == 200:\n",
    "        user_id = response.json()['id']\n",
    "        print(\"ID de usuario obtenido:\", user_id)\n",
    "        return user_id\n",
    "    else:\n",
    "        print(\"Error al obtener el ID de usuario:\", response.status_code, response.text)\n",
    "        return None\n",
    "\n",
    "user_id = get_user_id(access_token)\n"
   ]
  },
  {
   "cell_type": "code",
   "execution_count": 17,
   "metadata": {},
   "outputs": [
    {
     "name": "stdout",
     "output_type": "stream",
     "text": [
      "Se han obtenido 638 órdenes desde 2023-11-17 hasta 2024-05-15.\n"
     ]
    }
   ],
   "source": [
    "def get_all_orders(user_id, access_token):\n",
    "    # Calcular las fechas para los últimos 6 meses\n",
    "    end_date = datetime.now()\n",
    "    start_date = end_date - timedelta(days=180)  # Aproximadamente 6 meses\n",
    "\n",
    "    # Formatear las fechas en el formato adecuado (YYYY-MM-DD)\n",
    "    date_from = start_date.strftime('%Y-%m-%d')\n",
    "    date_to = end_date.strftime('%Y-%m-%d')\n",
    "\n",
    "    offset = 0\n",
    "    limit = 50  # Ajustar según las limitaciones de la API\n",
    "    all_orders = []\n",
    "\n",
    "    while True:\n",
    "        url = (f'https://api.mercadolibre.com/orders/search?seller={user_id}'\n",
    "               f'&order.date_created.from={date_from}T00:00:00.000-00:00'\n",
    "               f'&order.date_created.to={date_to}T23:59:59.999-00:00'\n",
    "               f'&offset={offset}&limit={limit}')\n",
    "        headers = {'Authorization': f'Bearer {access_token}'}\n",
    "        response = requests.get(url, headers=headers)\n",
    "\n",
    "        if response.status_code == 200:\n",
    "            orders = response.json().get('results', [])\n",
    "            all_orders.extend(orders)\n",
    "\n",
    "            # Verificar si hay más órdenes para obtener\n",
    "            if len(orders) < limit:\n",
    "                break\n",
    "            else:\n",
    "                offset += limit\n",
    "        else:\n",
    "            print(\"Error al obtener las compras:\", response.status_code, response.text)\n",
    "            break\n",
    "\n",
    "    print(f\"Se han obtenido {len(all_orders)} órdenes desde {date_from} hasta {date_to}.\")\n",
    "    return all_orders\n",
    "\n",
    "orders = get_all_orders(user_id, access_token)"
   ]
  },
  {
   "cell_type": "code",
   "execution_count": 18,
   "metadata": {},
   "outputs": [
    {
     "name": "stdout",
     "output_type": "stream",
     "text": [
      "Se han obtenido 638 órdenes desde 2023-11-17 hasta 2024-05-15.\n",
      "Datos de órdenes guardados en 'orders.csv'.\n"
     ]
    }
   ],
   "source": [
    "def save_orders_to_csv(orders):\n",
    "    if not orders:\n",
    "        print(\"No hay datos de órdenes para guardar.\")\n",
    "        return\n",
    "\n",
    "    # Definir las claves que queremos guardar en el CSV\n",
    "    keys = [\n",
    "        'id', 'status', 'date_created', 'date_closed', 'total_amount', 'currency_id',\n",
    "        'buyer_id', 'buyer_nickname', 'buyer_first_name', 'buyer_last_name',\n",
    "        'item_id', 'item_title', 'quantity', 'unit_price',\n",
    "        'payment_id', 'transaction_amount', 'payment_status'\n",
    "    ]\n",
    "\n",
    "    with open('data/orders.csv', 'w', newline='') as output_file:\n",
    "        dict_writer = csv.DictWriter(output_file, fieldnames=keys)\n",
    "        dict_writer.writeheader()\n",
    "\n",
    "        # Asegurar que todos los diccionarios tengan todas las claves\n",
    "        for order in orders:\n",
    "            for item in order.get('order_items', []):\n",
    "                for payment in order.get('payments', []):\n",
    "                    row = {\n",
    "                        'id': order.get('id'),\n",
    "                        'status': order.get('status'),\n",
    "                        'date_created': order.get('date_created'),\n",
    "                        'date_closed': order.get('date_closed'),\n",
    "                        'total_amount': order.get('total_amount'),\n",
    "                        'currency_id': order.get('currency_id'),\n",
    "                        'buyer_id': order['buyer'].get('id'),\n",
    "                        'buyer_nickname': order['buyer'].get('nickname'),\n",
    "                        'buyer_first_name': order['buyer'].get('first_name'),\n",
    "                        'buyer_last_name': order['buyer'].get('last_name'),\n",
    "                        'item_id': item['item'].get('id'),\n",
    "                        'item_title': item['item'].get('title'),\n",
    "                        'quantity': item.get('quantity'),\n",
    "                        'unit_price': item.get('unit_price'),\n",
    "                        'payment_id': payment.get('id'),\n",
    "                        'transaction_amount': payment.get('transaction_amount'),\n",
    "                        'payment_status': payment.get('status')\n",
    "                    }\n",
    "                    dict_writer.writerow(row)\n",
    "\n",
    "    print(\"Datos de órdenes guardados en 'orders.csv'.\")\n",
    "\n",
    "\n",
    "orders = get_all_orders(user_id, access_token)\n",
    "if orders:\n",
    "    save_orders_to_csv(orders)"
   ]
  },
  {
   "cell_type": "markdown",
   "metadata": {},
   "source": [
    "Mandar a AWS - S3"
   ]
  }
 ],
 "metadata": {
  "kernelspec": {
   "display_name": "Python 3",
   "language": "python",
   "name": "python3"
  },
  "language_info": {
   "codemirror_mode": {
    "name": "ipython",
    "version": 3
   },
   "file_extension": ".py",
   "mimetype": "text/x-python",
   "name": "python",
   "nbconvert_exporter": "python",
   "pygments_lexer": "ipython3",
   "version": "3.12.3"
  }
 },
 "nbformat": 4,
 "nbformat_minor": 2
}
