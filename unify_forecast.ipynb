{
 "cells": [
  {
   "cell_type": "code",
   "execution_count": 2,
   "metadata": {},
   "outputs": [],
   "source": [
    "# Importar librerías\n",
    "import os\n",
    "import pandas as pd\n",
    "import numpy as np\n",
    "from datetime import timedelta\n",
    "\n",
    "import boto3\n",
    "import awswrangler as wr\n",
    "from botocore.config import Config"
   ]
  },
  {
   "cell_type": "code",
   "execution_count": 4,
   "metadata": {},
   "outputs": [],
   "source": [
    "# Read the CSV files\n",
    "orders_train = pd.read_csv('./data/clean/orders_train.csv')\n",
    "orders_test = pd.read_csv('./data/clean/orders_test.csv')\n",
    "orders_pred = pd.read_csv('./data/clean/orders_pred.csv')"
   ]
  },
  {
   "cell_type": "code",
   "execution_count": 9,
   "metadata": {},
   "outputs": [
    {
     "name": "stdout",
     "output_type": "stream",
     "text": [
      "          date   total_sales      type\n",
      "0   2023-11-18  52825.500000   actuals\n",
      "1   2023-11-19  35925.000000   actuals\n",
      "2   2023-11-20  26480.000000   actuals\n",
      "3   2023-11-21   5844.000000   actuals\n",
      "4   2023-11-22   9928.000000   actuals\n",
      "..         ...           ...       ...\n",
      "205 2024-06-10  12902.932963  forecast\n",
      "206 2024-06-11  12894.596876  forecast\n",
      "207 2024-06-12  12896.117998  forecast\n",
      "208 2024-06-13  12903.139231  forecast\n",
      "209 2024-06-14  12903.625673  forecast\n",
      "\n",
      "[210 rows x 3 columns]\n"
     ]
    }
   ],
   "source": [
    "# Get the max date from the orders_test DataFrame\n",
    "max_date = pd.to_datetime(orders_test['date']).max()\n",
    "\n",
    "# Create a date range for the next 30 days\n",
    "future_dates = pd.date_range(start=max_date + timedelta(days=1), periods=30, freq='D')\n",
    "\n",
    "# Assign the future dates to the orders_pred DataFrame\n",
    "orders_pred['date'] = future_dates\n",
    "orders_pred.rename(columns={'Predictions': 'total_sales'}, inplace=True)\n",
    "\n",
    "# Add a 'type' column\n",
    "orders_train['type'] = 'actuals'\n",
    "orders_test['type'] = 'actuals'\n",
    "orders_pred['type'] = 'forecast'\n",
    "\n",
    "# Concatenate the DataFrames\n",
    "all_orders_forecast = pd.concat([orders_train, orders_test, orders_pred[['date', 'total_sales', 'type']]])\n",
    "\n",
    "# Ensure the date column is in datetime format\n",
    "all_orders_forecast['date'] = pd.to_datetime(all_orders_forecast['date'])\n",
    "\n",
    "# Sort by date\n",
    "all_orders_forecast.sort_values(by='date', inplace=True)\n",
    "\n",
    "# Reset index (optional)\n",
    "all_orders_forecast.reset_index(drop=True, inplace=True)\n",
    "\n",
    "# Display the resulting DataFrame\n",
    "print(all_orders_forecast)\n",
    "\n",
    "# Save to a new CSV\n",
    "all_orders_forecast.to_csv('./data/AWS/all_orders_forecast.csv', index=False)\n"
   ]
  },
  {
   "cell_type": "code",
   "execution_count": 31,
   "metadata": {},
   "outputs": [],
   "source": [
    "# Abrir cliente de S3\n",
    "session = boto3.Session(profile_name='arquitectura')\n",
    "s3 = session.client('s3')\n",
    "BUCKET_NAME = \"itam-mgs-pf-marketplace\""
   ]
  },
  {
   "cell_type": "code",
   "execution_count": 39,
   "metadata": {},
   "outputs": [],
   "source": [
    "# Upload los archivos a S3\n",
    "s3.upload_file(Filename=\"./data/AWS/all_orders_forecast.csv\", Bucket=BUCKET_NAME, Key=\"s../forecast/all_orders_forecast.csv\")"
   ]
  },
  {
   "cell_type": "code",
   "execution_count": 34,
   "metadata": {},
   "outputs": [],
   "source": [
    "query = '''\n",
    "    CREATE EXTERNAL TABLE IF NOT EXISTS marketplace.all_orders_forecast (\n",
    "    date string,\n",
    "    total_sales float,\n",
    "    type string\n",
    "    ) \n",
    "    ROW FORMAT SERDE 'org.apache.hadoop.hive.serde2.lazy.LazySimpleSerDe' \n",
    "    WITH SERDEPROPERTIES ('field.delim' = ',') \n",
    "    STORED AS TEXTFILE\n",
    "    LOCATION 's3://itam-mgs-pf-marketplace/s../forecast/' \n",
    "    TBLPROPERTIES ('classification' = 'csv', 'skip.header.line.count'='1');\n",
    "\n",
    "'''"
   ]
  },
  {
   "cell_type": "code",
   "execution_count": 36,
   "metadata": {},
   "outputs": [
    {
     "data": {
      "text/html": [
       "<div>\n",
       "<style scoped>\n",
       "    .dataframe tbody tr th:only-of-type {\n",
       "        vertical-align: middle;\n",
       "    }\n",
       "\n",
       "    .dataframe tbody tr th {\n",
       "        vertical-align: top;\n",
       "    }\n",
       "\n",
       "    .dataframe thead th {\n",
       "        text-align: right;\n",
       "    }\n",
       "</style>\n",
       "<table border=\"1\" class=\"dataframe\">\n",
       "  <thead>\n",
       "    <tr style=\"text-align: right;\">\n",
       "      <th></th>\n",
       "    </tr>\n",
       "  </thead>\n",
       "  <tbody>\n",
       "  </tbody>\n",
       "</table>\n",
       "</div>"
      ],
      "text/plain": [
       "Empty DataFrame\n",
       "Columns: []\n",
       "Index: []"
      ]
     },
     "execution_count": 36,
     "metadata": {},
     "output_type": "execute_result"
    }
   ],
   "source": [
    "wr.athena.read_sql_query(\n",
    "    query, \n",
    "    database=\"marketplace\", \n",
    "    ctas_approach=False, \n",
    "    boto3_session=session\n",
    ")"
   ]
  },
  {
   "cell_type": "code",
   "execution_count": 38,
   "metadata": {},
   "outputs": [
    {
     "data": {
      "text/html": [
       "<div>\n",
       "<style scoped>\n",
       "    .dataframe tbody tr th:only-of-type {\n",
       "        vertical-align: middle;\n",
       "    }\n",
       "\n",
       "    .dataframe tbody tr th {\n",
       "        vertical-align: top;\n",
       "    }\n",
       "\n",
       "    .dataframe thead th {\n",
       "        text-align: right;\n",
       "    }\n",
       "</style>\n",
       "<table border=\"1\" class=\"dataframe\">\n",
       "  <thead>\n",
       "    <tr style=\"text-align: right;\">\n",
       "      <th></th>\n",
       "      <th>date</th>\n",
       "      <th>total_sales</th>\n",
       "      <th>type</th>\n",
       "    </tr>\n",
       "  </thead>\n",
       "  <tbody>\n",
       "    <tr>\n",
       "      <th>205</th>\n",
       "      <td>2024-06-10</td>\n",
       "      <td>12902.932617</td>\n",
       "      <td>forecast</td>\n",
       "    </tr>\n",
       "    <tr>\n",
       "      <th>206</th>\n",
       "      <td>2024-06-11</td>\n",
       "      <td>12894.596680</td>\n",
       "      <td>forecast</td>\n",
       "    </tr>\n",
       "    <tr>\n",
       "      <th>207</th>\n",
       "      <td>2024-06-12</td>\n",
       "      <td>12896.118164</td>\n",
       "      <td>forecast</td>\n",
       "    </tr>\n",
       "    <tr>\n",
       "      <th>208</th>\n",
       "      <td>2024-06-13</td>\n",
       "      <td>12903.139648</td>\n",
       "      <td>forecast</td>\n",
       "    </tr>\n",
       "    <tr>\n",
       "      <th>209</th>\n",
       "      <td>2024-06-14</td>\n",
       "      <td>12903.625977</td>\n",
       "      <td>forecast</td>\n",
       "    </tr>\n",
       "  </tbody>\n",
       "</table>\n",
       "</div>"
      ],
      "text/plain": [
       "           date   total_sales      type\n",
       "205  2024-06-10  12902.932617  forecast\n",
       "206  2024-06-11  12894.596680  forecast\n",
       "207  2024-06-12  12896.118164  forecast\n",
       "208  2024-06-13  12903.139648  forecast\n",
       "209  2024-06-14  12903.625977  forecast"
      ]
     },
     "execution_count": 38,
     "metadata": {},
     "output_type": "execute_result"
    }
   ],
   "source": [
    "query = '''\n",
    "    SELECT *\n",
    "    FROM marketplace.all_orders_forecast;\n",
    "'''\n",
    "\n",
    "all_orders_forecast = wr.athena.read_sql_query(\n",
    "    query, \n",
    "    database=\"orders\", \n",
    "    ctas_approach=False,\n",
    "    boto3_session=session\n",
    ")\n",
    "\n",
    "all_orders_forecast.tail()"
   ]
  }
 ],
 "metadata": {
  "kernelspec": {
   "display_name": "PF_MGS",
   "language": "python",
   "name": "python3"
  },
  "language_info": {
   "codemirror_mode": {
    "name": "ipython",
    "version": 3
   },
   "file_extension": ".py",
   "mimetype": "text/x-python",
   "name": "python",
   "nbconvert_exporter": "python",
   "pygments_lexer": "ipython3",
   "version": "3.12.3"
  }
 },
 "nbformat": 4,
 "nbformat_minor": 2
}
