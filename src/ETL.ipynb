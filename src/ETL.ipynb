{
 "cells": [
  {
   "cell_type": "code",
   "execution_count": 4,
   "metadata": {},
   "outputs": [],
   "source": [
    "# Importar librerías\n",
    "import os\n",
    "import pandas as pd\n",
    "import numpy as np\n",
    "import boto3"
   ]
  },
  {
   "cell_type": "markdown",
   "metadata": {},
   "source": [
    "# Procesamiento de datos con bash"
   ]
  },
  {
   "cell_type": "code",
   "execution_count": 8,
   "metadata": {},
   "outputs": [
    {
     "name": "stdout",
     "output_type": "stream",
     "text": [
      "../src/data_processing.sh: line 4: ./data/orders_temp.csv: No such file or directory\n",
      "../src/data_processing.sh: line 8: ./data/orders_temp2.csv: No such file or directory\n",
      "../src/data_processing.sh: line 11: ./data/orders_temp3.csv: No such file or directory\n",
      "../src/data_processing.sh: line 14: ./data/orders_clean.csv: No such file or directory\n",
      "rm: ./data/orders_temp.csv: No such file or directory\n",
      "rm: ./data/orders_temp2.csv: No such file or directory\n",
      "rm: ./data/orders_temp3.csv: No such file or directory\n",
      "Proceso completado.\n"
     ]
    }
   ],
   "source": [
    "# Utilizando el comando !\n",
    "!bash ../src/data_processing.sh"
   ]
  },
  {
   "cell_type": "code",
   "execution_count": 10,
   "metadata": {},
   "outputs": [
    {
     "data": {
      "text/plain": [
       "713"
      ]
     },
     "execution_count": 10,
     "metadata": {},
     "output_type": "execute_result"
    }
   ],
   "source": [
    "# Cargar el archivo CSV en un DataFrame\n",
    "df = pd.read_csv('../data/orders_clean.csv')\n",
    "len(df)"
   ]
  },
  {
   "cell_type": "code",
   "execution_count": 11,
   "metadata": {},
   "outputs": [
    {
     "data": {
      "text/html": [
       "<div>\n",
       "<style scoped>\n",
       "    .dataframe tbody tr th:only-of-type {\n",
       "        vertical-align: middle;\n",
       "    }\n",
       "\n",
       "    .dataframe tbody tr th {\n",
       "        vertical-align: top;\n",
       "    }\n",
       "\n",
       "    .dataframe thead th {\n",
       "        text-align: right;\n",
       "    }\n",
       "</style>\n",
       "<table border=\"1\" class=\"dataframe\">\n",
       "  <thead>\n",
       "    <tr style=\"text-align: right;\">\n",
       "      <th></th>\n",
       "      <th>id</th>\n",
       "      <th>status</th>\n",
       "      <th>date_created</th>\n",
       "      <th>date_closed</th>\n",
       "      <th>total_amount</th>\n",
       "      <th>currency_id</th>\n",
       "      <th>buyer_id</th>\n",
       "      <th>buyer_nickname</th>\n",
       "      <th>item_id</th>\n",
       "      <th>item_title</th>\n",
       "      <th>quantity</th>\n",
       "      <th>unit_price</th>\n",
       "      <th>payment_id</th>\n",
       "      <th>transaction_amount</th>\n",
       "      <th>payment_status</th>\n",
       "    </tr>\n",
       "  </thead>\n",
       "  <tbody>\n",
       "    <tr>\n",
       "      <th>0</th>\n",
       "      <td>1</td>\n",
       "      <td>paid</td>\n",
       "      <td>2023-11-18T01:21:30.000-04:00</td>\n",
       "      <td>2023-11-18T01:21:33.000-04:00</td>\n",
       "      <td>3016.0</td>\n",
       "      <td>MXN</td>\n",
       "      <td>309239735</td>\n",
       "      <td>CHAN3676282</td>\n",
       "      <td>MLM2599141944</td>\n",
       "      <td>Colchn Gel Dreams Individual Memory Foam Gel +...</td>\n",
       "      <td>1</td>\n",
       "      <td>3016.0</td>\n",
       "      <td>67213472120</td>\n",
       "      <td>3016.0</td>\n",
       "      <td>approved</td>\n",
       "    </tr>\n",
       "    <tr>\n",
       "      <th>1</th>\n",
       "      <td>2</td>\n",
       "      <td>cancelled</td>\n",
       "      <td>2023-11-18T08:24:01.000-04:00</td>\n",
       "      <td>2023-11-18T08:24:02.000-04:00</td>\n",
       "      <td>3016.0</td>\n",
       "      <td>MXN</td>\n",
       "      <td>1100694423</td>\n",
       "      <td>JUANOLMOSSALINAS</td>\n",
       "      <td>MLM2599141944</td>\n",
       "      <td>Colchn Gel Dreams Individual Memory Foam Gel +...</td>\n",
       "      <td>1</td>\n",
       "      <td>3016.0</td>\n",
       "      <td>67219573502</td>\n",
       "      <td>3016.0</td>\n",
       "      <td>refunded</td>\n",
       "    </tr>\n",
       "    <tr>\n",
       "      <th>2</th>\n",
       "      <td>3</td>\n",
       "      <td>paid</td>\n",
       "      <td>2023-11-18T10:46:37.000-04:00</td>\n",
       "      <td>2023-11-18T10:47:25.000-04:00</td>\n",
       "      <td>6799.5</td>\n",
       "      <td>MXN</td>\n",
       "      <td>337111761</td>\n",
       "      <td>USSINAVA</td>\n",
       "      <td>MLM2595260414</td>\n",
       "      <td>Colchones Matrimoniales | Colchn Memory Foam +...</td>\n",
       "      <td>1</td>\n",
       "      <td>6799.5</td>\n",
       "      <td>67227648832</td>\n",
       "      <td>6799.5</td>\n",
       "      <td>approved</td>\n",
       "    </tr>\n",
       "    <tr>\n",
       "      <th>3</th>\n",
       "      <td>4</td>\n",
       "      <td>cancelled</td>\n",
       "      <td>2023-11-18T11:31:07.000-04:00</td>\n",
       "      <td>2023-11-18T11:31:45.000-04:00</td>\n",
       "      <td>3016.0</td>\n",
       "      <td>MXN</td>\n",
       "      <td>1437574340</td>\n",
       "      <td>ZUIGAELENA20230803130736</td>\n",
       "      <td>MLM2599141944</td>\n",
       "      <td>Colchn Gel Dreams Individual Memory Foam Gel +...</td>\n",
       "      <td>1</td>\n",
       "      <td>3016.0</td>\n",
       "      <td>67230885796</td>\n",
       "      <td>3016.0</td>\n",
       "      <td>refunded</td>\n",
       "    </tr>\n",
       "    <tr>\n",
       "      <th>4</th>\n",
       "      <td>5</td>\n",
       "      <td>paid</td>\n",
       "      <td>2023-11-18T19:36:29.000-04:00</td>\n",
       "      <td>2023-11-18T19:36:32.000-04:00</td>\n",
       "      <td>3016.0</td>\n",
       "      <td>MXN</td>\n",
       "      <td>1007811151</td>\n",
       "      <td>JESSJAIMEJUANFRANCISCO</td>\n",
       "      <td>MLM2599141944</td>\n",
       "      <td>Colchn Gel Dreams Individual Memory Foam Gel +...</td>\n",
       "      <td>1</td>\n",
       "      <td>3016.0</td>\n",
       "      <td>67259727656</td>\n",
       "      <td>3016.0</td>\n",
       "      <td>approved</td>\n",
       "    </tr>\n",
       "  </tbody>\n",
       "</table>\n",
       "</div>"
      ],
      "text/plain": [
       "   id     status                   date_created  \\\n",
       "0   1       paid  2023-11-18T01:21:30.000-04:00   \n",
       "1   2  cancelled  2023-11-18T08:24:01.000-04:00   \n",
       "2   3       paid  2023-11-18T10:46:37.000-04:00   \n",
       "3   4  cancelled  2023-11-18T11:31:07.000-04:00   \n",
       "4   5       paid  2023-11-18T19:36:29.000-04:00   \n",
       "\n",
       "                     date_closed  total_amount currency_id    buyer_id  \\\n",
       "0  2023-11-18T01:21:33.000-04:00        3016.0         MXN   309239735   \n",
       "1  2023-11-18T08:24:02.000-04:00        3016.0         MXN  1100694423   \n",
       "2  2023-11-18T10:47:25.000-04:00        6799.5         MXN   337111761   \n",
       "3  2023-11-18T11:31:45.000-04:00        3016.0         MXN  1437574340   \n",
       "4  2023-11-18T19:36:32.000-04:00        3016.0         MXN  1007811151   \n",
       "\n",
       "             buyer_nickname        item_id  \\\n",
       "0               CHAN3676282  MLM2599141944   \n",
       "1          JUANOLMOSSALINAS  MLM2599141944   \n",
       "2                  USSINAVA  MLM2595260414   \n",
       "3  ZUIGAELENA20230803130736  MLM2599141944   \n",
       "4    JESSJAIMEJUANFRANCISCO  MLM2599141944   \n",
       "\n",
       "                                          item_title  quantity  unit_price  \\\n",
       "0  Colchn Gel Dreams Individual Memory Foam Gel +...         1      3016.0   \n",
       "1  Colchn Gel Dreams Individual Memory Foam Gel +...         1      3016.0   \n",
       "2  Colchones Matrimoniales | Colchn Memory Foam +...         1      6799.5   \n",
       "3  Colchn Gel Dreams Individual Memory Foam Gel +...         1      3016.0   \n",
       "4  Colchn Gel Dreams Individual Memory Foam Gel +...         1      3016.0   \n",
       "\n",
       "    payment_id  transaction_amount payment_status  \n",
       "0  67213472120              3016.0       approved  \n",
       "1  67219573502              3016.0       refunded  \n",
       "2  67227648832              6799.5       approved  \n",
       "3  67230885796              3016.0       refunded  \n",
       "4  67259727656              3016.0       approved  "
      ]
     },
     "execution_count": 11,
     "metadata": {},
     "output_type": "execute_result"
    }
   ],
   "source": [
    "df.head()"
   ]
  },
  {
   "cell_type": "markdown",
   "metadata": {},
   "source": [
    "Para crear el bucket, tenemos que crear un cliente, para conectarnos al servicio desde Python. Para ello vamos a utilizar la libería boto3 que es el Python SDK de AWS para interactuar con todos los servicios. "
   ]
  },
  {
   "cell_type": "code",
   "execution_count": 12,
   "metadata": {},
   "outputs": [],
   "source": [
    "# Abres un cliente de S3\n",
    "session = boto3.Session(profile_name='arquitectura')\n",
    "s3 = session.client('s3')"
   ]
  },
  {
   "cell_type": "code",
   "execution_count": 14,
   "metadata": {},
   "outputs": [
    {
     "data": {
      "text/plain": [
       "{'ResponseMetadata': {'RequestId': 'CP1R4P0B4H3EHNAA',\n",
       "  'HostId': 'lBJ48cVQhiyHcCvA7DXGg2SUuaU1bFClu1ccyVj9FHeHCOLAyIfHCPBpNhEQJ6kvXpJgLX9b7S0=',\n",
       "  'HTTPStatusCode': 200,\n",
       "  'HTTPHeaders': {'x-amz-id-2': 'lBJ48cVQhiyHcCvA7DXGg2SUuaU1bFClu1ccyVj9FHeHCOLAyIfHCPBpNhEQJ6kvXpJgLX9b7S0=',\n",
       "   'x-amz-request-id': 'CP1R4P0B4H3EHNAA',\n",
       "   'date': 'Fri, 17 May 2024 02:41:05 GMT',\n",
       "   'location': '/itam-mgs-pf-marketplace',\n",
       "   'server': 'AmazonS3',\n",
       "   'content-length': '0'},\n",
       "  'RetryAttempts': 0},\n",
       " 'Location': '/itam-mgs-pf-marketplace'}"
      ]
     },
     "execution_count": 14,
     "metadata": {},
     "output_type": "execute_result"
    }
   ],
   "source": [
    "# Crea un nuevo Bucket\n",
    "BUCKET_NAME = \"itam-mgs-pf-marketplace\"\n",
    "s3.create_bucket(Bucket=BUCKET_NAME)"
   ]
  },
  {
   "cell_type": "markdown",
   "metadata": {},
   "source": [
    "En S3 tienes que guardar cada tabla, osea cada S3, en un directorio por separado. Si no lo haces así vas a tener muchos problemas para utilizar otros servicios como el AWS Glue y Amazon Athena."
   ]
  },
  {
   "cell_type": "code",
   "execution_count": 15,
   "metadata": {},
   "outputs": [],
   "source": [
    "# Upload los archivos a S3\n",
    "s3.upload_file(Filename=\"../data/orders_clean.csv\", Bucket=BUCKET_NAME, Key=\"s../data/orders_clean.csv\")"
   ]
  }
 ],
 "metadata": {
  "kernelspec": {
   "display_name": "PF_MGS",
   "language": "python",
   "name": "python3"
  },
  "language_info": {
   "codemirror_mode": {
    "name": "ipython",
    "version": 3
   },
   "file_extension": ".py",
   "mimetype": "text/x-python",
   "name": "python",
   "nbconvert_exporter": "python",
   "pygments_lexer": "ipython3",
   "version": "3.12.3"
  },
  "orig_nbformat": 4
 },
 "nbformat": 4,
 "nbformat_minor": 2
}
